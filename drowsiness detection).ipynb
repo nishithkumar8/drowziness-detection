{
 "cells": [
  {
   "cell_type": "code",
   "execution_count": 1,
   "id": "67ba7715",
   "metadata": {},
   "outputs": [
    {
     "name": "stdout",
     "output_type": "stream",
     "text": [
      "pygame 2.5.2 (SDL 2.28.3, Python 3.11.3)\n",
      "Hello from the pygame community. https://www.pygame.org/contribute.html\n"
     ]
    }
   ],
   "source": [
    "import cv2\n",
    "import dlib\n",
    "import numpy as np\n",
    "#import vlc\n",
    "import pygame\n",
    "from scipy.spatial import distance \n",
    "import time"
   ]
  },
  {
   "cell_type": "code",
   "execution_count": 2,
   "id": "5d98c8f5",
   "metadata": {},
   "outputs": [],
   "source": [
    "def eye_aspect_ratio(eye):\n",
    "    a=distance.euclidean(eye[1],eye[5])\n",
    "    b=distance.euclidean(eye[2],eye[4])\n",
    "    c=distance.euclidean(eye[0],eye[3])\n",
    "    res=(a+b)/(2.0*c+1e-7)\n",
    "    return res"
   ]
  },
  {
   "cell_type": "code",
   "execution_count": 3,
   "id": "9227e861",
   "metadata": {},
   "outputs": [],
   "source": [
    "TIME_LIMIT=3*60*60\n",
    "start_time=time.time()"
   ]
  },
  {
   "cell_type": "code",
   "execution_count": 4,
   "id": "b2759ce6",
   "metadata": {},
   "outputs": [],
   "source": [
    "face_detector=dlib.get_frontal_face_detector()\n",
    "facial_point_predictor=dlib.shape_predictor(r\"C:\\Users\\Nishith\\Downloads\\shape_predictor_68_face_landmarks.dat\")\n",
    "\n",
    "pygame.mixer.init()\n",
    "pygame.mixer.music.load(r\"C:\\Users\\Nishith\\Downloads\\FM9B3TC-alarm (1).mp3\")\n",
    "#pygame.mixer.music.load(r\"C:\\Users\\Nishith\\Downloads\\alarm.mp3\")\n",
    "#sound=vlc.MediaPlayer(r\"C:\\Users\\Nishith\\Downloads\\alarm.mp3\")\n",
    "sound=pygame.mixer.music"
   ]
  },
  {
   "cell_type": "code",
   "execution_count": 5,
   "id": "033fcd9a",
   "metadata": {},
   "outputs": [],
   "source": [
    "EAR_threshold=0.23"
   ]
  },
  {
   "cell_type": "code",
   "execution_count": 14,
   "id": "8ab85abf",
   "metadata": {},
   "outputs": [],
   "source": [
    "cap=cv2.VideoCapture(0)\n",
    "frame_count=0\n",
    "while True:\n",
    "    ret,frame=cap.read()\n",
    "    frame_count+=1\n",
    "    if frame_count%5==0:\n",
    "        img=cv2.cvtColor(frame,cv2.COLOR_BGR2GRAY)\n",
    "        faces=face_detector(img)\n",
    "        for face in faces:\n",
    "            facial_landmarks=facial_point_predictor(img,face)\n",
    "            left_eye=np.array([(facial_landmarks.part(i).x,facial_landmarks.part(i).y )for i in range(36,42)],dtype=\"double\")\n",
    "            right_eye=np.array([(facial_landmarks.part(i).x,facial_landmarks.part(i).y )for i in range(42,48)],dtype=\"double\")    \n",
    "            left_eye_ar=eye_aspect_ratio(left_eye)\n",
    "            right_eye_ar=eye_aspect_ratio(right_eye)\n",
    "        \n",
    "            if np.all(left_eye) and np.all(right_eye):\n",
    "                res=(left_eye_ar+right_eye_ar)/2.0\n",
    "            elif np.all(left_eye):\n",
    "                res=left_eye_ar\n",
    "            elif np.all(right_eye):\n",
    "                res=right_eye_ar\n",
    "            else:\n",
    "                continue\n",
    "            if res<0.20 :\n",
    "                cv2.putText(frame,\"DROWSYNESS DETECTED\",(10,30),cv2.FONT_HERSHEY_SIMPLEX,0.7,(0,0,255),2)\n",
    "                #if not sound.is_playing():\n",
    "                if not sound.get_busy():\n",
    "                    sound.play()\n",
    "            else:\n",
    "                #if sound.is_playing():\n",
    "                if sound.get_busy():\n",
    "                    sound.stop()\n",
    "            time_difference=time.time()-start_time\n",
    "            if time_difference>TIME_LIMIT:\n",
    "                cv2.putText(frame,\"more than 3 hours,TAKE BREAK\",(10,60),cv2.FONT_HERSHEY_SIMPLEX,0.7,(0,0,255),2)\n",
    "                if not sound.get_busy():\n",
    "                    sound.play()\n",
    "                else:\n",
    "                    if sound.get_busy():\n",
    "                         sound.stop()\n",
    "                    \n",
    "                   \n",
    "                    \n",
    "        cv2.imshow('drowsiness',frame)\n",
    "        if cv2.waitKey(1)==ord('q'):\n",
    "            break\n",
    "    \n",
    "#if sound.is_playing():\n",
    "if sound.get_busy():\n",
    "    sound.stop()\n",
    "cap.release()\n",
    "cv2.destroyAllWindows()"
   ]
  },
  {
   "cell_type": "code",
   "execution_count": null,
   "id": "1b8f43a5",
   "metadata": {},
   "outputs": [],
   "source": []
  }
 ],
 "metadata": {
  "kernelspec": {
   "display_name": "Python 3 (ipykernel)",
   "language": "python",
   "name": "python3"
  },
  "language_info": {
   "codemirror_mode": {
    "name": "ipython",
    "version": 3
   },
   "file_extension": ".py",
   "mimetype": "text/x-python",
   "name": "python",
   "nbconvert_exporter": "python",
   "pygments_lexer": "ipython3",
   "version": "3.11.3"
  }
 },
 "nbformat": 4,
 "nbformat_minor": 5
}
