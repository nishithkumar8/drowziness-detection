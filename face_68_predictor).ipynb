{
 "cells": [
  {
   "cell_type": "code",
   "execution_count": 1,
   "id": "a4bffe82",
   "metadata": {},
   "outputs": [],
   "source": [
    "import cv2\n",
    "import dlib\n",
    "import numpy as np\n",
    "from scipy.spatial import distance\n"
   ]
  },
  {
   "cell_type": "code",
   "execution_count": 2,
   "id": "a865fbb8",
   "metadata": {},
   "outputs": [],
   "source": [
    "def eye_aspect_ratio(arr):\n",
    "    a=distance.euclidean(arr[0],arr[5])\n",
    "    b=distance.euclidean(arr[1],arr[6])\n",
    "    c=distance.euclidean(arr[3],arr[4])\n",
    "    return (a+b)/2*c"
   ]
  },
  {
   "cell_type": "code",
   "execution_count": 3,
   "id": "d30be34e",
   "metadata": {},
   "outputs": [],
   "source": [
    "face_detector=dlib.get_frontal_face_detector()\n",
    "face_point_predictor=dlib.shape_predictor(r\"C:\\Users\\Nishith\\Downloads\\shape_predictor_68_face_landmarks.dat\")"
   ]
  },
  {
   "cell_type": "code",
   "execution_count": 5,
   "id": "4a2a0dbe",
   "metadata": {},
   "outputs": [],
   "source": [
    "frame=cv2.imread(r\"C:\\Users\\Nishith\\OneDrive\\Pictures\\Camera Roll\\WIN_20230323_17_50_19_Pro.jpg\")\n",
    "image=cv2.cvtColor(frame,cv2.COLOR_BGR2GRAY)\n",
    "face=face_detector(image)\n",
    "facial_landmarks=face_point_predictor(image,face[0])\n",
    "\n",
    "for n in range(68):\n",
    "    x=facial_landmarks.part(n).x\n",
    "    y=facial_landmarks.part(n).y\n",
    "    cv2.circle(frame,(x,y),2,(0,255,255),2)\n",
    "cv2.imshow(\"image\",frame)\n",
    "cv2.waitKey(0)\n",
    "cv2.destroyAllWindows()"
   ]
  },
  {
   "cell_type": "code",
   "execution_count": null,
   "id": "45ab410a",
   "metadata": {},
   "outputs": [],
   "source": []
  }
 ],
 "metadata": {
  "kernelspec": {
   "display_name": "Python 3 (ipykernel)",
   "language": "python",
   "name": "python3"
  },
  "language_info": {
   "codemirror_mode": {
    "name": "ipython",
    "version": 3
   },
   "file_extension": ".py",
   "mimetype": "text/x-python",
   "name": "python",
   "nbconvert_exporter": "python",
   "pygments_lexer": "ipython3",
   "version": "3.11.3"
  }
 },
 "nbformat": 4,
 "nbformat_minor": 5
}
